{
 "cells": [
  {
   "cell_type": "markdown",
   "id": "9c11b962",
   "metadata": {
    "papermill": {
     "duration": 0.030872,
     "end_time": "2024-10-17T17:57:48.140679",
     "exception": false,
     "start_time": "2024-10-17T17:57:48.109807",
     "status": "completed"
    },
    "tags": []
   },
   "source": [
    "# Ariel | Ensemble of solutions\n",
    "\n",
    "1. (LB=0.517) [ariel_only_correlation | param upd[LB.517]](https://www.kaggle.com/code/hideyukizushi/ariel-only-correlation-param-upd-lb-517) by expert [yukiZ](https://www.kaggle.com/hideyukizushi)\n",
    "\n",
    "2. (LB=0.545) [LB=0.545](https://www.kaggle.com/code/xiaocao123/lb-0-545) by expert [qianc](https://www.kaggle.com/xiaocao123)\n",
    "\n",
    "This approach has proven itself in previous competitions: [ISIC 2024 - Skin Cancer Detection with 3D-TBP](https://www.kaggle.com/competitions/isic-2024-challenge/code?competitionId=63056&sortBy=scoreDescending&excludeNonAccessedDatasources=true)\n"
   ]
  },
  {
   "cell_type": "code",
   "execution_count": null,
   "id": "d10a0a10",
   "metadata": {
    "execution": {
     "iopub.execute_input": "2024-10-17T17:57:48.257408Z",
     "iopub.status.busy": "2024-10-17T17:57:48.256981Z",
     "iopub.status.idle": "2024-10-17T17:57:48.267658Z",
     "shell.execute_reply": "2024-10-17T17:57:48.266477Z"
    },
    "papermill": {
     "duration": 0.042791,
     "end_time": "2024-10-17T17:57:48.270018",
     "exception": false,
     "start_time": "2024-10-17T17:57:48.227227",
     "status": "completed"
    },
    "tags": []
   },
   "outputs": [],
   "source": [
    "LAUNCH_VARIANT,ENSEMBLE_SOLUTIONS = 'option 4',['SOLUTION_7','SOLUTION_9']"
   ]
  },
  {
   "cell_type": "markdown",
   "id": "5c3b71e4",
   "metadata": {
    "papermill": {
     "duration": 0.04455,
     "end_time": "2024-10-17T17:58:13.696792",
     "exception": false,
     "start_time": "2024-10-17T17:58:13.652242",
     "status": "completed"
    },
    "tags": []
   },
   "source": [
    "## 7. [ariel_only_correlation | param upd[LB.517]](https://www.kaggle.com/code/hideyukizushi/ariel-only-correlation-param-upd-lb-517)\n",
    "### [yukiZ](https://www.kaggle.com/hideyukizushi)"
   ]
  },
  {
   "cell_type": "markdown",
   "id": "e6a0da8d",
   "metadata": {
    "_kg_hide-input": true,
    "papermill": {
     "duration": 0.032852,
     "end_time": "2024-10-17T17:58:13.774253",
     "exception": false,
     "start_time": "2024-10-17T17:58:13.741401",
     "status": "completed"
    },
    "tags": []
   },
   "source": [
    "### ℹ️ **Info**\n",
    "* **forked original great work kernels**\n",
    "    * https://www.kaggle.com/code/sergeifironov/ariel-only-correlation\n",
    "\n",
    "* **2024/09/08 My Changed**\n",
    "    * scipy minimize() param & other params update"
   ]
  },
  {
   "cell_type": "markdown",
   "id": "d25450a0",
   "metadata": {
    "_kg_hide-input": true,
    "papermill": {
     "duration": 0.032671,
     "end_time": "2024-10-17T17:58:13.840179",
     "exception": false,
     "start_time": "2024-10-17T17:58:13.807508",
     "status": "completed"
    },
    "tags": []
   },
   "source": [
    "---\n",
    "---"
   ]
  },
  {
   "cell_type": "code",
   "execution_count": 65,
   "id": "145012e0",
   "metadata": {
    "_kg_hide-input": true,
    "_kg_hide-output": true,
    "execution": {
     "iopub.execute_input": "2024-10-17T17:58:13.907118Z",
     "iopub.status.busy": "2024-10-17T17:58:13.906675Z",
     "iopub.status.idle": "2024-10-17T17:58:13.913057Z",
     "shell.execute_reply": "2024-10-17T17:58:13.911978Z"
    },
    "papermill": {
     "duration": 0.042397,
     "end_time": "2024-10-17T17:58:13.915222",
     "exception": false,
     "start_time": "2024-10-17T17:58:13.872825",
     "status": "completed"
    },
    "tags": []
   },
   "outputs": [],
   "source": [
    "if 'SOLUTION_7' in ENSEMBLE_SOLUTIONS:\n",
    "    \n",
    "    import pandas as pd\n",
    "    import matplotlib.pyplot as plt\n",
    "    import numpy as np\n",
    "    import seaborn as sns\n",
    "    import scipy.stats\n",
    "    from tqdm import tqdm\n",
    "\n",
    "    from sklearn.model_selection import cross_val_predict\n",
    "    from sklearn.linear_model import Ridge\n",
    "    from sklearn.metrics import r2_score, mean_squared_error\n",
    "    import itertools\n",
    "    from scipy.optimize import minimize\n",
    "    from functools import partial\n",
    "    import random, os\n",
    "    from astropy.stats import sigma_clip"
   ]
  },
  {
   "cell_type": "code",
   "execution_count": 66,
   "id": "f47760a5",
   "metadata": {
    "_kg_hide-input": true,
    "_kg_hide-output": true,
    "execution": {
     "iopub.execute_input": "2024-10-17T17:58:13.982511Z",
     "iopub.status.busy": "2024-10-17T17:58:13.982086Z",
     "iopub.status.idle": "2024-10-17T17:58:14.003663Z",
     "shell.execute_reply": "2024-10-17T17:58:14.002636Z"
    },
    "papermill": {
     "duration": 0.058416,
     "end_time": "2024-10-17T17:58:14.006513",
     "exception": false,
     "start_time": "2024-10-17T17:58:13.948097",
     "status": "completed"
    },
    "tags": []
   },
   "outputs": [],
   "source": [
    "if 'SOLUTION_7' in ENSEMBLE_SOLUTIONS:\n",
    "    \n",
    "    test_adc_info = pd.read_csv('/kaggle/input/ariel-data-challenge-2024/test_adc_info.csv',\n",
    "                               index_col='planet_id')\n",
    "    axis_info = pd.read_parquet('/kaggle/input/ariel-data-challenge-2024/axis_info.parquet')"
   ]
  },
  {
   "cell_type": "code",
   "execution_count": 67,
   "id": "b4d7d8e3",
   "metadata": {
    "_kg_hide-input": true,
    "_kg_hide-output": true,
    "execution": {
     "iopub.execute_input": "2024-10-17T17:58:14.075309Z",
     "iopub.status.busy": "2024-10-17T17:58:14.074716Z",
     "iopub.status.idle": "2024-10-17T17:58:24.210509Z",
     "shell.execute_reply": "2024-10-17T17:58:24.209206Z"
    },
    "papermill": {
     "duration": 10.172983,
     "end_time": "2024-10-17T17:58:24.213011",
     "exception": false,
     "start_time": "2024-10-17T17:58:14.040028",
     "status": "completed"
    },
    "tags": []
   },
   "outputs": [
    {
     "name": "stderr",
     "output_type": "stream",
     "text": [
      "100%|██████████| 1/1 [00:05<00:00,  5.39s/it]\n",
      "100%|██████████| 1/1 [00:04<00:00,  4.71s/it]\n"
     ]
    }
   ],
   "source": [
    "if 'SOLUTION_7' in ENSEMBLE_SOLUTIONS:\n",
    "    \n",
    "    def apply_linear_corr(linear_corr,clean_signal):\n",
    "        linear_corr = np.flip(linear_corr, axis=0)\n",
    "        for x, y in itertools.product(\n",
    "                    range(clean_signal.shape[1]), range(clean_signal.shape[2])\n",
    "                ):\n",
    "            poli = np.poly1d(linear_corr[:, x, y])\n",
    "            clean_signal[:, x, y] = poli(clean_signal[:, x, y])\n",
    "        return clean_signal\n",
    "\n",
    "    def clean_dark(signal, dark, dt):\n",
    "        dark = np.tile(dark, (signal.shape[0], 1, 1))\n",
    "        signal -= dark* dt[:, np.newaxis, np.newaxis]\n",
    "        return signal\n",
    "\n",
    "    def preproc(dataset, adc_info, sensor, binning = 15):\n",
    "        cut_inf, cut_sup = 39, 321\n",
    "        sensor_sizes_dict = {\"AIRS-CH0\":[[11250, 32, 356], [1, 32, cut_sup-cut_inf]], \"FGS1\":[[135000, 32, 32], [1, 32, 32]]}\n",
    "        binned_dict = {\"AIRS-CH0\":[11250 // binning // 2, 282], \"FGS1\":[135000 // binning // 2]}\n",
    "        linear_corr_dict = {\"AIRS-CH0\":(6, 32, 356), \"FGS1\":(6, 32, 32)}\n",
    "        planet_ids = adc_info.index\n",
    "\n",
    "        feats = []\n",
    "        for i, planet_id in tqdm(list(enumerate(planet_ids))):\n",
    "            signal = pd.read_parquet(f'/kaggle/input/ariel-data-challenge-2024/{dataset}/{planet_id}/{sensor}_signal.parquet').to_numpy()\n",
    "            dark_frame = pd.read_parquet(f'/kaggle/input/ariel-data-challenge-2024/{dataset}/' + str(planet_id) + '/' + sensor + '_calibration/dark.parquet', engine='pyarrow').to_numpy()\n",
    "            dead_frame = pd.read_parquet(f'/kaggle/input/ariel-data-challenge-2024/{dataset}/' + str(planet_id) + '/' + sensor + '_calibration/dead.parquet', engine='pyarrow').to_numpy()\n",
    "            flat_frame = pd.read_parquet(f'/kaggle/input/ariel-data-challenge-2024/{dataset}/' + str(planet_id) + '/' + sensor + '_calibration/flat.parquet', engine='pyarrow').to_numpy()\n",
    "            linear_corr = pd.read_parquet(f'/kaggle/input/ariel-data-challenge-2024/{dataset}/' + str(planet_id) + '/' + sensor + '_calibration/linear_corr.parquet').values.astype(np.float64).reshape(linear_corr_dict[sensor])\n",
    "\n",
    "            signal = signal.reshape(sensor_sizes_dict[sensor][0]) \n",
    "            gain = adc_info[f'{sensor}_adc_gain'].values[i]\n",
    "            offset = adc_info[f'{sensor}_adc_offset'].values[i]\n",
    "            signal = signal / gain + offset\n",
    "\n",
    "            hot = sigma_clip(\n",
    "                dark_frame, sigma=8, maxiters=5\n",
    "            ).mask\n",
    "\n",
    "            if sensor != \"FGS1\":\n",
    "                signal = signal[:, :, cut_inf:cut_sup] #11250 * 32 * 282\n",
    "                #dt = axis_info['AIRS-CH0-integration_time'].dropna().values\n",
    "                dt = np.ones(len(signal))*0.1 \n",
    "                dt[1::2] += 4.5 #@bilzard idea\n",
    "                linear_corr = linear_corr[:, :, cut_inf:cut_sup]\n",
    "                dark_frame = dark_frame[:, cut_inf:cut_sup]\n",
    "                dead_frame = dead_frame[:, cut_inf:cut_sup]\n",
    "                flat_frame = flat_frame[:, cut_inf:cut_sup]\n",
    "                hot = hot[:, cut_inf:cut_sup]\n",
    "            else:\n",
    "                dt = np.ones(len(signal))*0.1\n",
    "                dt[1::2] += 0.1\n",
    "\n",
    "            signal = signal.clip(0) #@graySnow idea\n",
    "            linear_corr_signal = apply_linear_corr(linear_corr, signal)\n",
    "            signal = clean_dark(linear_corr_signal, dark_frame, dt)\n",
    "\n",
    "            flat = flat_frame.reshape(sensor_sizes_dict[sensor][1])\n",
    "            flat[dead_frame.reshape(sensor_sizes_dict[sensor][1])] = np.nan\n",
    "            flat[hot.reshape(sensor_sizes_dict[sensor][1])] = np.nan\n",
    "            signal = signal / flat\n",
    "\n",
    "            if sensor == \"FGS1\":\n",
    "                signal = signal.reshape((sensor_sizes_dict[sensor][0][0], sensor_sizes_dict[sensor][0][1]*sensor_sizes_dict[sensor][0][2]))\n",
    "\n",
    "            mean_signal = np.nanmean(signal, axis=1) # mean over the 32*32(FGS1) or 32(CH0) pixels\n",
    "            cds_signal = (mean_signal[1::2] - mean_signal[0::2])\n",
    "\n",
    "            binned = np.zeros((binned_dict[sensor]))\n",
    "            for j in range(cds_signal.shape[0] // binning):\n",
    "                binned[j] = cds_signal[j*binning:j*binning+binning].mean(axis=0)\n",
    "\n",
    "            if sensor == \"FGS1\":\n",
    "                binned = binned.reshape((binned.shape[0],1))\n",
    "\n",
    "            feats.append(binned)\n",
    "\n",
    "        return np.stack(feats)\n",
    "\n",
    "    pre_train = np.concatenate([preproc('test', test_adc_info, \"FGS1\", 30*12), preproc('test', test_adc_info, \"AIRS-CH0\", 30)], axis=2)"
   ]
  },
  {
   "cell_type": "markdown",
   "id": "378760c9",
   "metadata": {
    "_kg_hide-input": true,
    "papermill": {
     "duration": 0.033422,
     "end_time": "2024-10-17T17:58:24.279837",
     "exception": false,
     "start_time": "2024-10-17T17:58:24.246415",
     "status": "completed"
    },
    "tags": []
   },
   "source": [
    "### fit polynoms for each sample"
   ]
  },
  {
   "cell_type": "code",
   "execution_count": 68,
   "id": "62996fd9",
   "metadata": {
    "_kg_hide-input": true,
    "execution": {
     "iopub.execute_input": "2024-10-17T17:58:24.348211Z",
     "iopub.status.busy": "2024-10-17T17:58:24.347753Z",
     "iopub.status.idle": "2024-10-17T17:58:24.412912Z",
     "shell.execute_reply": "2024-10-17T17:58:24.411814Z"
    },
    "papermill": {
     "duration": 0.102925,
     "end_time": "2024-10-17T17:58:24.415880",
     "exception": false,
     "start_time": "2024-10-17T17:58:24.312955",
     "status": "completed"
    },
    "tags": []
   },
   "outputs": [],
   "source": [
    "if 'SOLUTION_7' in ENSEMBLE_SOLUTIONS:\n",
    "    \n",
    "    def phase_detector(signal):\n",
    "        phase1, phase2 = None, None\n",
    "        best_drop = 0\n",
    "        for i in range(50//2,150//2):        \n",
    "            t1 = signal[i:i+20//2].max() - signal[i:i+20//2].min()\n",
    "            if t1 > best_drop:\n",
    "                phase1 = i+(20+5)//2\n",
    "                best_drop = t1\n",
    "\n",
    "        best_drop = 0\n",
    "        for i in range(200//2,250//2):\n",
    "            t1 = signal[i:i+20//2].max() - signal[i:i+20//2].min()\n",
    "            if t1 > best_drop:\n",
    "                phase2 = i-5//2\n",
    "                best_drop = t1\n",
    "\n",
    "        return phase1, phase2\n",
    "\n",
    "    def try_s(signal, p1, p2, deg, s):\n",
    "        out = list(range(p1-30)) + list(range(p2+30,signal.shape[0]))\n",
    "        x, y = out, signal[out].tolist()\n",
    "        x = x + list(range(p1,p2))\n",
    "\n",
    "        y = y + (signal[p1:p2] * (1 + s[0])).tolist()\n",
    "        z = np.polyfit(x, y, deg)\n",
    "        p = np.poly1d(z)\n",
    "        q = np.abs(p(x) - y).mean()\n",
    "\n",
    "        if s < 1e-4:\n",
    "            return q + 1e3\n",
    "\n",
    "        return q\n",
    "\n",
    "    def calibrate_signal(signal):\n",
    "        p1,p2 = phase_detector(signal)\n",
    "\n",
    "        best_deg, best_score = 1, 1e12\n",
    "        for deg in range(1, 6):\n",
    "            f = partial(try_s, signal, p1, p2, deg)\n",
    "            r = minimize(f, [0.001], method = 'Nelder-Mead')\n",
    "            s = r.x[0]\n",
    "\n",
    "            out = list(range(p1-30)) + list(range(p2+30,signal.shape[0]))\n",
    "            x, y = out, signal[out].tolist()\n",
    "            x = x + list(range(p1,p2))\n",
    "            y = y + (signal[p1:p2] * (1 + s)).tolist()\n",
    "\n",
    "            z = np.polyfit(x, y, deg)\n",
    "            p = np.poly1d(z)\n",
    "            q = np.abs(p(x) - y).mean()\n",
    "\n",
    "            if q < best_score:\n",
    "                best_score = q\n",
    "                best_deg = deg\n",
    "\n",
    "            print(deg, q)\n",
    "\n",
    "        z = np.polyfit(x, y, best_deg)\n",
    "        p = np.poly1d(z)\n",
    "\n",
    "        return s, x, y, p(x)\n",
    "\n",
    "    def calibrate_train(signal):\n",
    "        p1,p2 = phase_detector(signal)\n",
    "\n",
    "        best_deg, best_score = 1, 1e12\n",
    "        for deg in range(1, 6):\n",
    "            f = partial(try_s, signal, p1, p2, deg)\n",
    "            r = minimize(f, [0.0001], method = 'Nelder-Mead')\n",
    "            s = r.x[0]\n",
    "\n",
    "            out = list(range(p1-30)) + list(range(p2+30,signal.shape[0]))\n",
    "            x, y = out, signal[out].tolist()\n",
    "            x = x + list(range(p1,p2))\n",
    "            y = y + (signal[p1:p2] * (1 + s)).tolist()\n",
    "\n",
    "            z = np.polyfit(x, y, deg)\n",
    "            p = np.poly1d(z)\n",
    "            q = np.abs(p(x) - y).mean()\n",
    "\n",
    "            if q < best_score:\n",
    "                best_score = q\n",
    "                best_deg = deg\n",
    "\n",
    "        z = np.polyfit(x, y, best_deg)\n",
    "        p = np.poly1d(z)\n",
    "\n",
    "        return s, p(np.arange(signal.shape[0])), p1, p2\n",
    "\n",
    "\n",
    "    train = pre_train.copy()\n",
    "    all_s = []\n",
    "    for i in range(len(test_adc_info)):\n",
    "        signal = train[i,:,1:].mean(axis=1)\n",
    "        s, p, p1, p2 = calibrate_train(pre_train[i,:,1:].mean(axis=1))\n",
    "        all_s.append(s)\n",
    "\n",
    "    #copy answer 283 times because we predict mean value\n",
    "    train_s = np.repeat(np.array(all_s), 283).reshape((len(all_s), 283))\n",
    "    \n",
    "    _k_sigma_7 = 0.000176\n",
    "    \n",
    "    \n",
    "#     if LAUNCH_VARIANT == 'option 111': _k_sigma_7 = 0.000176135 # _k_sigma_9 = 0.000140985 # \n",
    "#     if LAUNCH_VARIANT == 'option 112': _k_sigma_7 = 0.000176270 # _k_sigma_9 = 0.000141120 # \n",
    "#     if LAUNCH_VARIANT == 'option 113': _k_sigma_7 = 0.000176405 # _k_sigma_9 = 0.000141255 # \n",
    "        \n",
    "#     if LAUNCH_VARIANT == 'option 114': _k_sigma_7 = 0.000176540 # _k_sigma_9 = 0.000141390 # \n",
    "#     if LAUNCH_VARIANT == 'option 115': _k_sigma_7 = 0.000176676 # _k_sigma_9 = 0.000141525 # \n",
    "#     if LAUNCH_VARIANT == 'option 116': _k_sigma_7 = 0.000176810 # _k_sigma_9 = 0.000141650 # \n",
    "        \n",
    "#     if LAUNCH_VARIANT == 'option 117': _k_sigma_7 = 0.000176945 # _k_sigma_9 = 0.000141785 # \n",
    "#     if LAUNCH_VARIANT == 'option 118': _k_sigma_7 = 0.000177080 # _k_sigma_9 = 0.000141920 # \n",
    "#     if LAUNCH_VARIANT == 'option 119': _k_sigma_7 = 0.000177215 # _k_sigma_9 = 0.000142055 # \n",
    "        \n",
    "\n",
    "    train_sigma = np.ones_like(train_s) * _k_sigma_7"
   ]
  },
  {
   "cell_type": "markdown",
   "id": "9aca80c6",
   "metadata": {
    "papermill": {
     "duration": 0.032918,
     "end_time": "2024-10-17T17:58:24.482671",
     "exception": false,
     "start_time": "2024-10-17T17:58:24.449753",
     "status": "completed"
    },
    "tags": []
   },
   "source": [
    "Probably we can accurately estimate sigma from train"
   ]
  },
  {
   "cell_type": "code",
   "execution_count": 69,
   "id": "f283b65e",
   "metadata": {
    "_kg_hide-input": true,
    "execution": {
     "iopub.execute_input": "2024-10-17T17:58:24.551025Z",
     "iopub.status.busy": "2024-10-17T17:58:24.550621Z",
     "iopub.status.idle": "2024-10-17T17:58:24.844365Z",
     "shell.execute_reply": "2024-10-17T17:58:24.843202Z"
    },
    "papermill": {
     "duration": 0.330852,
     "end_time": "2024-10-17T17:58:24.846914",
     "exception": false,
     "start_time": "2024-10-17T17:58:24.516062",
     "status": "completed"
    },
    "tags": []
   },
   "outputs": [
    {
     "name": "stdout",
     "output_type": "stream",
     "text": [
      "1 0.07244680006452496\n",
      "2 0.07002299921950764\n",
      "3 0.06342300208129605\n",
      "4 0.06371088493969411\n",
      "5 0.06319975127381998\n"
     ]
    },
    {
     "data": {
      "image/png": "[encoded data removed]",
      "text/plain": [
       "<Figure size 640x480 with 1 Axes>"
      ]
     },
     "metadata": {},
     "output_type": "display_data"
    }
   ],
   "source": [
    "if 'SOLUTION_7' in ENSEMBLE_SOLUTIONS:\n",
    "    \n",
    "    n = 0\n",
    "    s, x, y, y_new = calibrate_signal(pre_train[n,:,1:].mean(axis=1))\n",
    "    plt.scatter(x,y)\n",
    "    plt.scatter(x,y_new)"
   ]
  },
  {
   "cell_type": "markdown",
   "id": "630d956a",
   "metadata": {
    "papermill": {
     "duration": 0.035179,
     "end_time": "2024-10-17T17:58:24.916643",
     "exception": false,
     "start_time": "2024-10-17T17:58:24.881464",
     "status": "completed"
    },
    "tags": []
   },
   "source": [
    "I call the orange line \"starline\". This is probably what we would see if the planet weren't in the way."
   ]
  },
  {
   "cell_type": "markdown",
   "id": "a409fcb3",
   "metadata": {
    "_kg_hide-input": true,
    "papermill": {
     "duration": 0.03483,
     "end_time": "2024-10-17T17:58:24.986549",
     "exception": false,
     "start_time": "2024-10-17T17:58:24.951719",
     "status": "completed"
    },
    "tags": []
   },
   "source": [
    "### Making submission"
   ]
  },
  {
   "cell_type": "code",
   "execution_count": 70,
   "id": "e63cf481",
   "metadata": {
    "_kg_hide-input": true,
    "_kg_hide-output": true,
    "execution": {
     "iopub.execute_input": "2024-10-17T17:58:25.058731Z",
     "iopub.status.busy": "2024-10-17T17:58:25.058303Z",
     "iopub.status.idle": "2024-10-17T17:58:25.083391Z",
     "shell.execute_reply": "2024-10-17T17:58:25.082101Z"
    },
    "papermill": {
     "duration": 0.064181,
     "end_time": "2024-10-17T17:58:25.085970",
     "exception": false,
     "start_time": "2024-10-17T17:58:25.021789",
     "status": "completed"
    },
    "tags": []
   },
   "outputs": [],
   "source": [
    "if 'SOLUTION_7' in ENSEMBLE_SOLUTIONS:    \n",
    "    \n",
    "    ss = pd.read_csv('/kaggle/input/ariel-data-challenge-2024/sample_submission.csv')\n",
    "\n",
    "    preds = train_s.clip(0)\n",
    "    sigmas = train_sigma\n",
    "    submission = pd.DataFrame(np.concatenate([preds,sigmas], axis=1), columns=ss.columns[1:])\n",
    "    submission.index = test_adc_info.index\n",
    "    submission.to_csv('submission_7.csv')"
   ]
  },
  {
   "cell_type": "markdown",
   "id": "65c46085",
   "metadata": {
    "papermill": {
     "duration": 0.035893,
     "end_time": "2024-10-17T17:58:26.226902",
     "exception": false,
     "start_time": "2024-10-17T17:58:26.191009",
     "status": "completed"
    },
    "tags": []
   },
   "source": [
    "## 9. [ariel_clash | LB=0.545](https://www.kaggle.com/code/xiaocao123/lb-0-545)\n",
    "### [qianc](https://www.kaggle.com/xiaocao123)"
   ]
  },
  {
   "cell_type": "markdown",
   "id": "26c44ca5",
   "metadata": {
    "_kg_hide-input": true,
    "papermill": {
     "duration": 0.035469,
     "end_time": "2024-10-17T17:58:26.298747",
     "exception": false,
     "start_time": "2024-10-17T17:58:26.263278",
     "status": "completed"
    },
    "tags": []
   },
   "source": [
    " Notebook from https://www.kaggle.com/code/vyacheslavbolotin/ariel-ensemble-of-solutions\n",
    " If it is useful to you, please give your like.\n",
    "\n",
    " Below is the link to my other notebook, which is also the first sharer.\n",
    "\n",
    " https://www.kaggle.com/code/xiaocao123/ariel-data-challenge-2024"
   ]
  },
  {
   "cell_type": "markdown",
   "id": "f954e0ed",
   "metadata": {
    "_kg_hide-input": true,
    "papermill": {
     "duration": 0.035409,
     "end_time": "2024-10-17T17:58:26.369787",
     "exception": false,
     "start_time": "2024-10-17T17:58:26.334378",
     "status": "completed"
    },
    "tags": []
   },
   "source": [
    "This notebook is an update of https://www.kaggle.com/code/sergeifironov/ariel-only-correlation\n",
    "from Sergei Fironov\n",
    "\n",
    "Updates :\n",
    "- keep 10:22 pixels from the 32 (the image are well centred)\n",
    "- Use the derivative for the determination of the beginning and end of the signal during eclipse (idea from Reza R. Choubeh)\n",
    "- 'Simplification' of the code for minimize\n",
    "- Degree of polyfit <= 4\n",
    "- Predictions of test after training Ridge regression with the modelization results (targets predictions with modelization) and the True targets. "
   ]
  },
  {
   "cell_type": "markdown",
   "id": "5a12c502",
   "metadata": {
    "_kg_hide-input": true,
    "papermill": {
     "duration": 0.035336,
     "end_time": "2024-10-17T17:58:26.440672",
     "exception": false,
     "start_time": "2024-10-17T17:58:26.405336",
     "status": "completed"
    },
    "tags": []
   },
   "source": [
    "### Librairies"
   ]
  },
  {
   "cell_type": "code",
   "execution_count": 78,
   "id": "95915375",
   "metadata": {
    "_kg_hide-input": true,
    "execution": {
     "iopub.execute_input": "2024-10-17T17:58:26.514460Z",
     "iopub.status.busy": "2024-10-17T17:58:26.514040Z",
     "iopub.status.idle": "2024-10-17T17:58:26.520640Z",
     "shell.execute_reply": "2024-10-17T17:58:26.519347Z"
    },
    "papermill": {
     "duration": 0.045968,
     "end_time": "2024-10-17T17:58:26.522934",
     "exception": false,
     "start_time": "2024-10-17T17:58:26.476966",
     "status": "completed"
    },
    "tags": []
   },
   "outputs": [],
   "source": [
    "if 'SOLUTION_9' in ENSEMBLE_SOLUTIONS:\n",
    "    \n",
    "    import pandas as pd\n",
    "    import matplotlib.pyplot as plt\n",
    "    import numpy as np\n",
    "    from tqdm import tqdm\n",
    "    import joblib\n",
    "\n",
    "    from sklearn.linear_model import Ridge\n",
    "    from sklearn.metrics import r2_score, mean_squared_error\n",
    "    import itertools\n",
    "\n",
    "    from scipy.optimize import minimize\n",
    "    from scipy import optimize\n",
    "\n",
    "    from astropy.stats import sigma_clip"
   ]
  },
  {
   "cell_type": "code",
   "execution_count": 79,
   "id": "e3c43647",
   "metadata": {
    "_kg_hide-input": true,
    "execution": {
     "iopub.execute_input": "2024-10-17T17:58:26.596776Z",
     "iopub.status.busy": "2024-10-17T17:58:26.596322Z",
     "iopub.status.idle": "2024-10-17T17:58:26.632328Z",
     "shell.execute_reply": "2024-10-17T17:58:26.631119Z"
    },
    "papermill": {
     "duration": 0.076003,
     "end_time": "2024-10-17T17:58:26.635100",
     "exception": false,
     "start_time": "2024-10-17T17:58:26.559097",
     "status": "completed"
    },
    "tags": []
   },
   "outputs": [],
   "source": [
    "if 'SOLUTION_9' in ENSEMBLE_SOLUTIONS:\n",
    "    \n",
    "    dataset = 'test'\n",
    "    adc_info = pd.read_csv('/kaggle/input/ariel-data-challenge-2024/'+f'{dataset}_adc_info.csv',index_col='planet_id')\n",
    "    axis_info = pd.read_parquet('/kaggle/input/ariel-data-challenge-2024/axis_info.parquet')"
   ]
  },
  {
   "cell_type": "code",
   "execution_count": 80,
   "id": "a9574d5c",
   "metadata": {
    "_kg_hide-input": true,
    "_kg_hide-output": true,
    "execution": {
     "iopub.execute_input": "2024-10-17T17:58:26.710182Z",
     "iopub.status.busy": "2024-10-17T17:58:26.709738Z",
     "iopub.status.idle": "2024-10-17T17:58:35.606723Z",
     "shell.execute_reply": "2024-10-17T17:58:35.605591Z"
    },
    "papermill": {
     "duration": 8.937446,
     "end_time": "2024-10-17T17:58:35.609236",
     "exception": false,
     "start_time": "2024-10-17T17:58:26.671790",
     "status": "completed"
    },
    "tags": []
   },
   "outputs": [
    {
     "name": "stderr",
     "output_type": "stream",
     "text": [
      "100%|██████████| 1/1 [00:04<00:00,  4.73s/it]\n",
      "100%|██████████| 1/1 [00:04<00:00,  4.13s/it]\n"
     ]
    }
   ],
   "source": [
    "if 'SOLUTION_9' in ENSEMBLE_SOLUTIONS:\n",
    "    \n",
    "    def apply_linear_corr(linear_corr,clean_signal):\n",
    "        linear_corr = np.flip(linear_corr, axis=0)\n",
    "        for x, y in itertools.product(\n",
    "                    range(clean_signal.shape[1]), range(clean_signal.shape[2])\n",
    "                ):\n",
    "            poli = np.poly1d(linear_corr[:, x, y])\n",
    "            clean_signal[:, x, y] = poli(clean_signal[:, x, y])\n",
    "        return clean_signal\n",
    "\n",
    "    def clean_dark(signal, dark, dt):\n",
    "        dark = np.tile(dark, (signal.shape[0], 1, 1))\n",
    "        signal -= dark* dt[:, np.newaxis, np.newaxis]\n",
    "        return signal\n",
    "\n",
    "    def preproc(dataset, adc_info, sensor, binning = 15):\n",
    "        cut_inf, cut_sup = 39, 321\n",
    "        sensor_sizes_dict = {\"AIRS-CH0\":[[11250, 32, 356], [1, 32, cut_sup-cut_inf]], \"FGS1\":[[135000, 32, 32], [1, 32, 32]]}\n",
    "        binned_dict = {\"AIRS-CH0\":[11250 // binning // 2, 282], \"FGS1\":[135000 // binning // 2]}\n",
    "        linear_corr_dict = {\"AIRS-CH0\":(6, 32, 356), \"FGS1\":(6, 32, 32)}\n",
    "        planet_ids = adc_info.index\n",
    "\n",
    "        feats = []\n",
    "        for i, planet_id in tqdm(list(enumerate(planet_ids))):\n",
    "            signal = pd.read_parquet(f'/kaggle/input/ariel-data-challenge-2024/{dataset}/{planet_id}/{sensor}_signal.parquet').to_numpy()\n",
    "            dark_frame = pd.read_parquet(f'/kaggle/input/ariel-data-challenge-2024/{dataset}/' + str(planet_id) + '/' + sensor + '_calibration/dark.parquet', engine='pyarrow').to_numpy()\n",
    "            dead_frame = pd.read_parquet(f'/kaggle/input/ariel-data-challenge-2024/{dataset}/' + str(planet_id) + '/' + sensor + '_calibration/dead.parquet', engine='pyarrow').to_numpy()\n",
    "            flat_frame = pd.read_parquet(f'/kaggle/input/ariel-data-challenge-2024/{dataset}/' + str(planet_id) + '/' + sensor + '_calibration/flat.parquet', engine='pyarrow').to_numpy()\n",
    "            linear_corr = pd.read_parquet(f'/kaggle/input/ariel-data-challenge-2024/{dataset}/' + str(planet_id) + '/' + sensor + '_calibration/linear_corr.parquet').values.astype(np.float64).reshape(linear_corr_dict[sensor])\n",
    "\n",
    "            signal = signal.reshape(sensor_sizes_dict[sensor][0]) \n",
    "            gain = adc_info[f'{sensor}_adc_gain'].values[i]\n",
    "            offset = adc_info[f'{sensor}_adc_offset'].values[i]\n",
    "            signal = signal / gain + offset\n",
    "\n",
    "            hot = sigma_clip(\n",
    "                dark_frame, sigma=5, maxiters=5\n",
    "            ).mask\n",
    "\n",
    "            if sensor != \"FGS1\":\n",
    "                signal = signal[:, :, cut_inf:cut_sup] \n",
    "                dt = np.ones(len(signal))*0.1 \n",
    "                dt[1::2] += 4.5 #@bilzard idea\n",
    "                linear_corr = linear_corr[:, :, cut_inf:cut_sup]\n",
    "                dark_frame = dark_frame[:, cut_inf:cut_sup]\n",
    "                dead_frame = dead_frame[:, cut_inf:cut_sup]\n",
    "                flat_frame = flat_frame[:, cut_inf:cut_sup]\n",
    "                hot = hot[:, cut_inf:cut_sup]\n",
    "            else:\n",
    "                dt = np.ones(len(signal))*0.1\n",
    "                dt[1::2] += 0.1\n",
    "\n",
    "            signal = signal.clip(0) #@graySnow idea\n",
    "            linear_corr_signal = apply_linear_corr(linear_corr, signal)\n",
    "            signal = clean_dark(linear_corr_signal, dark_frame, dt)\n",
    "\n",
    "            flat = flat_frame.reshape(sensor_sizes_dict[sensor][1])\n",
    "            flat[dead_frame.reshape(sensor_sizes_dict[sensor][1])] = np.nan\n",
    "            flat[hot.reshape(sensor_sizes_dict[sensor][1])] = np.nan\n",
    "            signal = signal / flat\n",
    "\n",
    "\n",
    "            if sensor == \"FGS1\":\n",
    "                signal = signal[:,10:22,10:22] # **** updates ****\n",
    "                signal = signal.reshape(sensor_sizes_dict[sensor][0][0],144) # # **** updates ****\n",
    "\n",
    "            if sensor != \"FGS1\":\n",
    "                signal = signal[:,10:22,:] # **** updates ****\n",
    "\n",
    "            mean_signal = np.nanmean(signal, axis=1) \n",
    "            cds_signal = (mean_signal[1::2] - mean_signal[0::2])\n",
    "\n",
    "            binned = np.zeros((binned_dict[sensor]))\n",
    "            for j in range(cds_signal.shape[0] // binning):\n",
    "                binned[j] = cds_signal[j*binning:j*binning+binning].mean(axis=0) \n",
    "\n",
    "            if sensor == \"FGS1\":\n",
    "                binned = binned.reshape((binned.shape[0],1))\n",
    "\n",
    "            feats.append(binned)\n",
    "\n",
    "        return np.stack(feats)\n",
    "\n",
    "    pre_train = np.concatenate([preproc(f'{dataset}', adc_info, \"FGS1\", 30*12), preproc(f'{dataset}', adc_info, \"AIRS-CH0\", 30)], axis=2)"
   ]
  },
  {
   "cell_type": "markdown",
   "id": "17be08ab",
   "metadata": {
    "_kg_hide-input": true,
    "papermill": {
     "duration": 0.036242,
     "end_time": "2024-10-17T17:58:35.682377",
     "exception": false,
     "start_time": "2024-10-17T17:58:35.646135",
     "status": "completed"
    },
    "tags": []
   },
   "source": [
    "### Modelization"
   ]
  },
  {
   "cell_type": "code",
   "execution_count": 81,
   "id": "576cfafc",
   "metadata": {
    "_kg_hide-input": true,
    "_kg_hide-output": true,
    "execution": {
     "iopub.execute_input": "2024-10-17T17:58:35.757832Z",
     "iopub.status.busy": "2024-10-17T17:58:35.757265Z",
     "iopub.status.idle": "2024-10-17T17:58:35.808140Z",
     "shell.execute_reply": "2024-10-17T17:58:35.806929Z"
    },
    "papermill": {
     "duration": 0.091406,
     "end_time": "2024-10-17T17:58:35.810599",
     "exception": false,
     "start_time": "2024-10-17T17:58:35.719193",
     "status": "completed"
    },
    "tags": []
   },
   "outputs": [
    {
     "name": "stderr",
     "output_type": "stream",
     "text": [
      "100%|██████████| 1/1 [00:00<00:00, 28.85it/s]\n"
     ]
    }
   ],
   "source": [
    "if 'SOLUTION_9' in ENSEMBLE_SOLUTIONS:\n",
    "    \n",
    "    def phase_detector(signal):\n",
    "\n",
    "        MIN = np.argmin(signal[30:140])+30\n",
    "        signal1 = signal[:MIN ]\n",
    "        signal2 = signal[MIN :]\n",
    "\n",
    "        first_derivative1 = np.gradient(signal1)\n",
    "        first_derivative1 /= first_derivative1.max()\n",
    "        first_derivative2 = np.gradient(signal2)\n",
    "        first_derivative2 /= first_derivative2.max()\n",
    "\n",
    "        phase1 = np.argmin(first_derivative1)\n",
    "        phase2 = np.argmax(first_derivative2) + MIN\n",
    "\n",
    "        return phase1, phase2\n",
    "\n",
    "    def objective(s):\n",
    "\n",
    "        best_q = 1e10\n",
    "        for i in range(4) :\n",
    "            delta = 2\n",
    "            x = list(range(signal.shape[0]-delta*4))\n",
    "            y = signal[:p1-delta].tolist() + (signal[p1+delta:p2 - delta] * (1 + s)).tolist() + signal[p2+delta:].tolist()\n",
    "\n",
    "            z = np.polyfit(x, y, deg=i)\n",
    "            p = np.poly1d(z)\n",
    "            q = np.abs(p(x) - y).mean()\n",
    "\n",
    "        if q < best_q :\n",
    "            best_q = q\n",
    "\n",
    "        return q\n",
    "\n",
    "\n",
    "    all_s = []\n",
    "    for i in tqdm(range(len(adc_info))):\n",
    "\n",
    "        signal = pre_train[i,:,1:].mean(axis=1)\n",
    "        p1,p2 = phase_detector(signal)\n",
    "\n",
    "        r = minimize(\n",
    "                    objective,\n",
    "                    [0.0001],\n",
    "                    method= 'Nelder-Mead'\n",
    "                      )\n",
    "        s = r.x[0]\n",
    "        all_s.append(s)\n",
    "\n",
    "    all_s = np.repeat(np.array(all_s), 283).reshape((len(all_s), 283))        "
   ]
  },
  {
   "cell_type": "markdown",
   "id": "4de56080",
   "metadata": {
    "_kg_hide-input": true,
    "papermill": {
     "duration": 0.036748,
     "end_time": "2024-10-17T17:58:35.887001",
     "exception": false,
     "start_time": "2024-10-17T17:58:35.850253",
     "status": "completed"
    },
    "tags": []
   },
   "source": [
    "### Predictions with Ridge model"
   ]
  },
  {
   "cell_type": "code",
   "execution_count": 82,
   "id": "ab358c8f",
   "metadata": {
    "_kg_hide-input": true,
    "execution": {
     "iopub.execute_input": "2024-10-17T17:58:35.962283Z",
     "iopub.status.busy": "2024-10-17T17:58:35.961811Z",
     "iopub.status.idle": "2024-10-17T17:58:35.966720Z",
     "shell.execute_reply": "2024-10-17T17:58:35.965624Z"
    },
    "papermill": {
     "duration": 0.0453,
     "end_time": "2024-10-17T17:58:35.969003",
     "exception": false,
     "start_time": "2024-10-17T17:58:35.923703",
     "status": "completed"
    },
    "tags": []
   },
   "outputs": [],
   "source": [
    "# if 'SOLUTION_9' in ENSEMBLE_SOLUTIONS:\n",
    "    \n",
    "    # pd.DataFrame(all_s)"
   ]
  },
  {
   "cell_type": "code",
   "execution_count": 83,
   "id": "70886e76",
   "metadata": {
    "_kg_hide-input": true,
    "execution": {
     "iopub.execute_input": "2024-10-17T17:58:36.044818Z",
     "iopub.status.busy": "2024-10-17T17:58:36.044387Z",
     "iopub.status.idle": "2024-10-17T17:58:36.049286Z",
     "shell.execute_reply": "2024-10-17T17:58:36.048203Z"
    },
    "papermill": {
     "duration": 0.045777,
     "end_time": "2024-10-17T17:58:36.051561",
     "exception": false,
     "start_time": "2024-10-17T17:58:36.005784",
     "status": "completed"
    },
    "tags": []
   },
   "outputs": [],
   "source": [
    "# if 'SOLUTION_9' in ENSEMBLE_SOLUTIONS:\n",
    "    \n",
    "    # model = joblib.load(\"/kaggle/input/adc24-meta-model-ridge/model_ridge_10_22_delta2.joblib\")\n",
    "    # pred = model.predict(all_s)\n",
    "    # pd.DataFrame(pred)\n",
    "    # import pickle\n",
    "    # with open('/kaggle/input/ad24-train-inf-ridge-addfe-lb-441/model.pickle', 'rb') as f:\n",
    "    #     model = pickle.load(f)\n",
    "    # pred = model.predict(all_s)\n",
    "    # pd.DataFrame(pred)"
   ]
  },
  {
   "cell_type": "markdown",
   "id": "103a970b",
   "metadata": {
    "_kg_hide-input": true,
    "papermill": {
     "duration": 0.037646,
     "end_time": "2024-10-17T17:58:36.125652",
     "exception": false,
     "start_time": "2024-10-17T17:58:36.088006",
     "status": "completed"
    },
    "tags": []
   },
   "source": [
    "### Submission"
   ]
  },
  {
   "cell_type": "code",
   "execution_count": 84,
   "id": "264ff077",
   "metadata": {
    "_kg_hide-input": true,
    "_kg_hide-output": true,
    "execution": {
     "iopub.execute_input": "2024-10-17T17:58:36.202246Z",
     "iopub.status.busy": "2024-10-17T17:58:36.201296Z",
     "iopub.status.idle": "2024-10-17T17:58:36.227723Z",
     "shell.execute_reply": "2024-10-17T17:58:36.226556Z"
    },
    "papermill": {
     "duration": 0.067374,
     "end_time": "2024-10-17T17:58:36.230199",
     "exception": false,
     "start_time": "2024-10-17T17:58:36.162825",
     "status": "completed"
    },
    "tags": []
   },
   "outputs": [],
   "source": [
    "if 'SOLUTION_9' in ENSEMBLE_SOLUTIONS:\n",
    "    \n",
    "    ss = pd.read_csv('/kaggle/input/ariel-data-challenge-2024/sample_submission.csv')\n",
    "\n",
    "    _k_sigma_9 = 0.000140985 # 0.0001422\n",
    "    \n",
    "    \n",
    "#     if LAUNCH_VARIANT == 'option 111': _k_sigma_9 = 0.000140985 # _k_sigma_7 = 0.000176135 # \n",
    "#     if LAUNCH_VARIANT == 'option 112': _k_sigma_9 = 0.000141120 # _k_sigma_7 = 0.000176270 # \n",
    "#     if LAUNCH_VARIANT == 'option 113': _k_sigma_9 = 0.000141255 # _k_sigma_7 = 0.000176405 # \n",
    "        \n",
    "#     if LAUNCH_VARIANT == 'option 114': _k_sigma_9 = 0.000141390 # _k_sigma_7 = 0.000176540 # \n",
    "#     if LAUNCH_VARIANT == 'option 115': _k_sigma_9 = 0.000141525 # _k_sigma_7 = 0.000176676 # \n",
    "#     if LAUNCH_VARIANT == 'option 116': _k_sigma_9 = 0.000141650 # _k_sigma_7 = 0.000176810 # \n",
    "        \n",
    "#     if LAUNCH_VARIANT == 'option 117': _k_sigma_9 = 0.000141785 # _k_sigma_7 = 0.000176945 # \n",
    "#     if LAUNCH_VARIANT == 'option 118': _k_sigma_9 = 0.000141920 # _k_sigma_7 = 0.000177080 # \n",
    "#     if LAUNCH_VARIANT == 'option 119': _k_sigma_9 = 0.000142055 # _k_sigma_7 = 0.000177215 # \n",
    "\n",
    "        \n",
    "    sigma = np.ones_like(all_s) * _k_sigma_9\n",
    "    pred = all_s.clip(0) \n",
    "    submission = pd.DataFrame(np.concatenate([pred,sigma], axis=1), columns=ss.columns[1:])\n",
    "    submission.index = adc_info.index\n",
    "    submission.to_csv('submission_9.csv')\n",
    "    submission"
   ]
  },
  {
   "cell_type": "markdown",
   "id": "fbb38b56",
   "metadata": {
    "papermill": {
     "duration": 0.036975,
     "end_time": "2024-10-17T17:58:37.355921",
     "exception": false,
     "start_time": "2024-10-17T17:58:37.318946",
     "status": "completed"
    },
    "tags": []
   },
   "source": [
    "## Ensemble of solutions"
   ]
  },
  {
   "cell_type": "code",
   "execution_count": 95,
   "id": "bf417dc2",
   "metadata": {
    "execution": {
     "iopub.execute_input": "2024-10-17T17:58:37.432511Z",
     "iopub.status.busy": "2024-10-17T17:58:37.431495Z",
     "iopub.status.idle": "2024-10-17T17:58:37.604714Z",
     "shell.execute_reply": "2024-10-17T17:58:37.603611Z"
    },
    "papermill": {
     "duration": 0.214357,
     "end_time": "2024-10-17T17:58:37.607261",
     "exception": false,
     "start_time": "2024-10-17T17:58:37.392904",
     "status": "completed"
    },
    "tags": []
   },
   "outputs": [
    {
     "data": {
      "text/html": [
       "<div>\n",
       "<style scoped>\n",
       "    .dataframe tbody tr th:only-of-type {\n",
       "        vertical-align: middle;\n",
       "    }\n",
       "\n",
       "    .dataframe tbody tr th {\n",
       "        vertical-align: top;\n",
       "    }\n",
       "\n",
       "    .dataframe thead th {\n",
       "        text-align: right;\n",
       "    }\n",
       "</style>\n",
       "<table border=\"1\" class=\"dataframe\">\n",
       "  <thead>\n",
       "    <tr style=\"text-align: right;\">\n",
       "      <th></th>\n",
       "      <th>planet_id</th>\n",
       "      <th>wl_1</th>\n",
       "      <th>wl_2</th>\n",
       "      <th>wl_3</th>\n",
       "      <th>wl_4</th>\n",
       "      <th>wl_5</th>\n",
       "      <th>wl_6</th>\n",
       "      <th>wl_7</th>\n",
       "      <th>wl_8</th>\n",
       "      <th>wl_9</th>\n",
       "      <th>...</th>\n",
       "      <th>sigma_274</th>\n",
       "      <th>sigma_275</th>\n",
       "      <th>sigma_276</th>\n",
       "      <th>sigma_277</th>\n",
       "      <th>sigma_278</th>\n",
       "      <th>sigma_279</th>\n",
       "      <th>sigma_280</th>\n",
       "      <th>sigma_281</th>\n",
       "      <th>sigma_282</th>\n",
       "      <th>sigma_283</th>\n",
       "    </tr>\n",
       "  </thead>\n",
       "  <tbody>\n",
       "    <tr>\n",
       "      <th>0</th>\n",
       "      <td>499191466.0</td>\n",
       "      <td>0.002723</td>\n",
       "      <td>0.002723</td>\n",
       "      <td>0.002723</td>\n",
       "      <td>0.002723</td>\n",
       "      <td>0.002723</td>\n",
       "      <td>0.002723</td>\n",
       "      <td>0.002723</td>\n",
       "      <td>0.002723</td>\n",
       "      <td>0.002723</td>\n",
       "      <td>...</td>\n",
       "      <td>0.000142</td>\n",
       "      <td>0.000142</td>\n",
       "      <td>0.000142</td>\n",
       "      <td>0.000142</td>\n",
       "      <td>0.000142</td>\n",
       "      <td>0.000142</td>\n",
       "      <td>0.000142</td>\n",
       "      <td>0.000142</td>\n",
       "      <td>0.000142</td>\n",
       "      <td>0.000142</td>\n",
       "    </tr>\n",
       "  </tbody>\n",
       "</table>\n",
       "<p>1 rows × 567 columns</p>\n",
       "</div>"
      ],
      "text/plain": [
       "     planet_id      wl_1      wl_2      wl_3      wl_4      wl_5      wl_6  \\\n",
       "0  499191466.0  0.002723  0.002723  0.002723  0.002723  0.002723  0.002723   \n",
       "\n",
       "       wl_7      wl_8      wl_9  ...  sigma_274  sigma_275  sigma_276  \\\n",
       "0  0.002723  0.002723  0.002723  ...   0.000142   0.000142   0.000142   \n",
       "\n",
       "   sigma_277  sigma_278  sigma_279  sigma_280  sigma_281  sigma_282  sigma_283  \n",
       "0   0.000142   0.000142   0.000142   0.000142   0.000142   0.000142   0.000142  \n",
       "\n",
       "[1 rows x 567 columns]"
      ]
     },
     "metadata": {},
     "output_type": "display_data"
    },
    {
     "data": {
      "text/html": [
       "<div>\n",
       "<style scoped>\n",
       "    .dataframe tbody tr th:only-of-type {\n",
       "        vertical-align: middle;\n",
       "    }\n",
       "\n",
       "    .dataframe tbody tr th {\n",
       "        vertical-align: top;\n",
       "    }\n",
       "\n",
       "    .dataframe thead th {\n",
       "        text-align: right;\n",
       "    }\n",
       "</style>\n",
       "<table border=\"1\" class=\"dataframe\">\n",
       "  <thead>\n",
       "    <tr style=\"text-align: right;\">\n",
       "      <th></th>\n",
       "      <th>planet_id</th>\n",
       "      <th>wl_1</th>\n",
       "      <th>wl_2</th>\n",
       "      <th>wl_3</th>\n",
       "      <th>wl_4</th>\n",
       "      <th>wl_5</th>\n",
       "      <th>wl_6</th>\n",
       "      <th>wl_7</th>\n",
       "      <th>wl_8</th>\n",
       "      <th>wl_9</th>\n",
       "      <th>...</th>\n",
       "      <th>sigma_274</th>\n",
       "      <th>sigma_275</th>\n",
       "      <th>sigma_276</th>\n",
       "      <th>sigma_277</th>\n",
       "      <th>sigma_278</th>\n",
       "      <th>sigma_279</th>\n",
       "      <th>sigma_280</th>\n",
       "      <th>sigma_281</th>\n",
       "      <th>sigma_282</th>\n",
       "      <th>sigma_283</th>\n",
       "    </tr>\n",
       "  </thead>\n",
       "  <tbody>\n",
       "    <tr>\n",
       "      <th>0</th>\n",
       "      <td>499191466</td>\n",
       "      <td>0.002726</td>\n",
       "      <td>0.002726</td>\n",
       "      <td>0.002726</td>\n",
       "      <td>0.002726</td>\n",
       "      <td>0.002726</td>\n",
       "      <td>0.002726</td>\n",
       "      <td>0.002726</td>\n",
       "      <td>0.002726</td>\n",
       "      <td>0.002726</td>\n",
       "      <td>...</td>\n",
       "      <td>0.000142</td>\n",
       "      <td>0.000142</td>\n",
       "      <td>0.000142</td>\n",
       "      <td>0.000142</td>\n",
       "      <td>0.000142</td>\n",
       "      <td>0.000142</td>\n",
       "      <td>0.000142</td>\n",
       "      <td>0.000142</td>\n",
       "      <td>0.000142</td>\n",
       "      <td>0.000142</td>\n",
       "    </tr>\n",
       "  </tbody>\n",
       "</table>\n",
       "<p>1 rows × 567 columns</p>\n",
       "</div>"
      ],
      "text/plain": [
       "   planet_id      wl_1      wl_2      wl_3      wl_4      wl_5      wl_6  \\\n",
       "0  499191466  0.002726  0.002726  0.002726  0.002726  0.002726  0.002726   \n",
       "\n",
       "       wl_7      wl_8      wl_9  ...  sigma_274  sigma_275  sigma_276  \\\n",
       "0  0.002726  0.002726  0.002726  ...   0.000142   0.000142   0.000142   \n",
       "\n",
       "   sigma_277  sigma_278  sigma_279  sigma_280  sigma_281  sigma_282  sigma_283  \n",
       "0   0.000142   0.000142   0.000142   0.000142   0.000142   0.000142   0.000142  \n",
       "\n",
       "[1 rows x 567 columns]"
      ]
     },
     "metadata": {},
     "output_type": "display_data"
    }
   ],
   "source": [
    "if LAUNCH_VARIANT in ['option 121','option 122','option 123','option 124','option 125','option 126','option 127','option 128','option 129','option 130','option 131','option 132']:\n",
    "    \n",
    "    df_solution_x = pd.read_csv('submission_7.csv')\n",
    "    df_solution_7 = pd.read_csv('submission_7.csv')\n",
    "    df_solution_9 = pd.read_csv('submission_9.csv')\n",
    "    df_solution_7 = df_solution_7.map(lambda x:x*0.0303215)\n",
    "    df_solution_9 = df_solution_9.map(lambda x:x*0.9696785)\n",
    "    df_temp = df_solution_7.add(df_solution_9)\n",
    "    display(df_temp)\n",
    "    \n",
    "    if LAUNCH_VARIANT   == 'option 121': df_submission = df_temp.map(lambda x:x*1.01)\n",
    "    elif LAUNCH_VARIANT == 'option 122': df_submission = df_temp.map(lambda x:x*1.001)\n",
    "    elif LAUNCH_VARIANT == 'option 123': df_submission = df_temp.map(lambda x:x*1.0001)\n",
    "    elif LAUNCH_VARIANT == 'option 124': df_submission = df_temp.map(lambda x:x/1.01)\n",
    "    elif LAUNCH_VARIANT == 'option 125': df_submission = df_temp.map(lambda x:x/1.001)\n",
    "    elif LAUNCH_VARIANT == 'option 126': df_submission = df_temp.map(lambda x:x/1.0001)\n",
    "    elif LAUNCH_VARIANT == 'option 127': df_submission = df_temp.map(lambda x:x*1.00001)\n",
    "    elif LAUNCH_VARIANT == 'option 128': df_submission = df_temp.map(lambda x:x*1.000001)\n",
    "    elif LAUNCH_VARIANT == 'option 129': df_submission = df_temp.map(lambda x:x*1.0000001)\n",
    "    elif LAUNCH_VARIANT == 'option 130': df_submission = df_temp.map(lambda x:x/1.00001)\n",
    "    elif LAUNCH_VARIANT == 'option 131': df_submission = df_temp.map(lambda x:x/1.000001)\n",
    "    elif LAUNCH_VARIANT == 'option 132': df_submission = df_temp.map(lambda x:x/1.0000001)\n",
    "    \n",
    "    df_submission['planet_id'] = df_solution_x['planet_id']\n",
    "    \n",
    "    display(df_submission)"
   ]
  },
  {
   "cell_type": "markdown",
   "id": "6e495dab",
   "metadata": {
    "papermill": {
     "duration": 0.037792,
     "end_time": "2024-10-17T17:58:37.683438",
     "exception": false,
     "start_time": "2024-10-17T17:58:37.645646",
     "status": "completed"
    },
    "tags": []
   },
   "source": []
  },
  {
   "cell_type": "code",
   "execution_count": 96,
   "id": "634bbaf4",
   "metadata": {
    "execution": {
     "iopub.execute_input": "2024-10-17T17:58:37.761153Z",
     "iopub.status.busy": "2024-10-17T17:58:37.760701Z",
     "iopub.status.idle": "2024-10-17T17:58:37.790006Z",
     "shell.execute_reply": "2024-10-17T17:58:37.788891Z"
    },
    "papermill": {
     "duration": 0.07109,
     "end_time": "2024-10-17T17:58:37.792445",
     "exception": false,
     "start_time": "2024-10-17T17:58:37.721355",
     "status": "completed"
    },
    "tags": []
   },
   "outputs": [
    {
     "data": {
      "text/html": [
       "<div>\n",
       "<style scoped>\n",
       "    .dataframe tbody tr th:only-of-type {\n",
       "        vertical-align: middle;\n",
       "    }\n",
       "\n",
       "    .dataframe tbody tr th {\n",
       "        vertical-align: top;\n",
       "    }\n",
       "\n",
       "    .dataframe thead th {\n",
       "        text-align: right;\n",
       "    }\n",
       "</style>\n",
       "<table border=\"1\" class=\"dataframe\">\n",
       "  <thead>\n",
       "    <tr style=\"text-align: right;\">\n",
       "      <th></th>\n",
       "      <th>planet_id</th>\n",
       "      <th>wl_1</th>\n",
       "      <th>wl_2</th>\n",
       "      <th>wl_3</th>\n",
       "      <th>wl_4</th>\n",
       "      <th>wl_5</th>\n",
       "      <th>wl_6</th>\n",
       "      <th>wl_7</th>\n",
       "      <th>wl_8</th>\n",
       "      <th>wl_9</th>\n",
       "      <th>...</th>\n",
       "      <th>sigma_274</th>\n",
       "      <th>sigma_275</th>\n",
       "      <th>sigma_276</th>\n",
       "      <th>sigma_277</th>\n",
       "      <th>sigma_278</th>\n",
       "      <th>sigma_279</th>\n",
       "      <th>sigma_280</th>\n",
       "      <th>sigma_281</th>\n",
       "      <th>sigma_282</th>\n",
       "      <th>sigma_283</th>\n",
       "    </tr>\n",
       "  </thead>\n",
       "  <tbody>\n",
       "    <tr>\n",
       "      <th>0</th>\n",
       "      <td>499191466</td>\n",
       "      <td>0.002726</td>\n",
       "      <td>0.002726</td>\n",
       "      <td>0.002726</td>\n",
       "      <td>0.002726</td>\n",
       "      <td>0.002726</td>\n",
       "      <td>0.002726</td>\n",
       "      <td>0.002726</td>\n",
       "      <td>0.002726</td>\n",
       "      <td>0.002726</td>\n",
       "      <td>...</td>\n",
       "      <td>0.000142</td>\n",
       "      <td>0.000142</td>\n",
       "      <td>0.000142</td>\n",
       "      <td>0.000142</td>\n",
       "      <td>0.000142</td>\n",
       "      <td>0.000142</td>\n",
       "      <td>0.000142</td>\n",
       "      <td>0.000142</td>\n",
       "      <td>0.000142</td>\n",
       "      <td>0.000142</td>\n",
       "    </tr>\n",
       "  </tbody>\n",
       "</table>\n",
       "<p>1 rows × 567 columns</p>\n",
       "</div>"
      ],
      "text/plain": [
       "   planet_id      wl_1      wl_2      wl_3      wl_4      wl_5      wl_6  \\\n",
       "0  499191466  0.002726  0.002726  0.002726  0.002726  0.002726  0.002726   \n",
       "\n",
       "       wl_7      wl_8      wl_9  ...  sigma_274  sigma_275  sigma_276  \\\n",
       "0  0.002726  0.002726  0.002726  ...   0.000142   0.000142   0.000142   \n",
       "\n",
       "   sigma_277  sigma_278  sigma_279  sigma_280  sigma_281  sigma_282  sigma_283  \n",
       "0   0.000142   0.000142   0.000142   0.000142   0.000142   0.000142   0.000142  \n",
       "\n",
       "[1 rows x 567 columns]"
      ]
     },
     "execution_count": 96,
     "metadata": {},
     "output_type": "execute_result"
    }
   ],
   "source": [
    "df_submission.to_csv('submission.csv', index=False, float_format='%.8f')\n",
    "df_submission"
   ]
  }
 ],
 "metadata": {
  "kaggle": {
   "accelerator": "none",
   "dataSources": [
    {
     "databundleVersionId": 9188054,
     "sourceId": 70367,
     "sourceType": "competition"
    },
    {
     "sourceId": 191155259,
     "sourceType": "kernelVersion"
    },
    {
     "sourceId": 196522559,
     "sourceType": "kernelVersion"
    }
   ],
   "dockerImageVersionId": 30761,
   "isGpuEnabled": false,
   "isInternetEnabled": false,
   "language": "python",
   "sourceType": "notebook"
  },
  "kernelspec": {
   "display_name": "Python 3",
   "language": "python",
   "name": "python3"
  },
  "language_info": {
   "codemirror_mode": {
    "name": "ipython",
    "version": 3
   },
   "file_extension": ".py",
   "mimetype": "text/x-python",
   "name": "python",
   "nbconvert_exporter": "python",
   "pygments_lexer": "ipython3",
   "version": "3.10.14"
  },
  "papermill": {
   "default_parameters": {},
   "duration": 53.461237,
   "end_time": "2024-10-17T17:58:38.645451",
   "environment_variables": {},
   "exception": null,
   "input_path": "__notebook__.ipynb",
   "output_path": "__notebook__.ipynb",
   "parameters": {},
   "start_time": "2024-10-17T17:57:45.184214",
   "version": "2.6.0"
  }
 },
 "nbformat": 4,
 "nbformat_minor": 5
}
